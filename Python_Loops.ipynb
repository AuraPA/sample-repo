{
  "nbformat": 4,
  "nbformat_minor": 0,
  "metadata": {
    "colab": {
      "provenance": [],
      "toc_visible": true,
      "include_colab_link": true
    },
    "kernelspec": {
      "name": "python3",
      "display_name": "Python 3"
    },
    "language_info": {
      "name": "python"
    }
  },
  "cells": [
    {
      "cell_type": "markdown",
      "metadata": {
        "id": "view-in-github",
        "colab_type": "text"
      },
      "source": [
        "<a href=\"https://colab.research.google.com/github/AuraPA/sample-repo/blob/main/Python_Loops.ipynb\" target=\"_parent\"><img src=\"https://colab.research.google.com/assets/colab-badge.svg\" alt=\"Open In Colab\"/></a>"
      ]
    },
    {
      "cell_type": "markdown",
      "source": [
        "# Lets have a little look at loops.\n",
        "Loops are used to work through **iterable objects** (ex. list, tuple, dictionaries)"
      ],
      "metadata": {
        "id": "gvGNRpkynRPn"
      }
    },
    {
      "cell_type": "code",
      "execution_count": null,
      "metadata": {
        "id": "CIc1vtXTjEaQ"
      },
      "outputs": [],
      "source": [
        "name_list = ['Crowley', 'Sam', 'Castiel', 'Dean', 'Bobby', 'Jack', 'Chuck']"
      ]
    },
    {
      "cell_type": "code",
      "source": [
        "for name in name_list:\n",
        "  # Do something here"
      ],
      "metadata": {
        "id": "ZJz9pCSznQYn"
      },
      "execution_count": null,
      "outputs": []
    },
    {
      "cell_type": "markdown",
      "source": [
        "Note: Loops also work on string variables, but be careful. They don't behave quite like reading a book."
      ],
      "metadata": {
        "id": "vatRNOPKoTQm"
      }
    },
    {
      "cell_type": "code",
      "source": [
        "for item in 'Supercalifragilisticexpialidocious':\n",
        "  print(item)"
      ],
      "metadata": {
        "id": "bDD8jKRFopkw"
      },
      "execution_count": null,
      "outputs": []
    },
    {
      "cell_type": "markdown",
      "source": [
        "# Nesting loops"
      ],
      "metadata": {
        "id": "BxfEPaauo_lA"
      }
    },
    {
      "cell_type": "code",
      "source": [
        "list_of_lists = [\n",
        "    [\"cat\", \"dog\", \"squirrel\"],\n",
        "    ['marlin', 'tuna', 'sunfish', 'tetra' ,'betta']\n",
        "    ['crayfish', 'ant', 'spider']\n",
        "]\n",
        "\n",
        "for nested_list in list_of_lists:\n",
        "  # add another loop here to loop through the nested list\n"
      ],
      "metadata": {
        "id": "Hqzn4TajpE-N"
      },
      "execution_count": null,
      "outputs": []
    },
    {
      "cell_type": "markdown",
      "source": [
        "# Breaking out of loops\n",
        "If you need to break a loop You can use the `break` statement. "
      ],
      "metadata": {
        "id": "IoExNeEDqb9g"
      }
    },
    {
      "cell_type": "code",
      "source": [
        "numbers = [1,2,3,4,5,6,7,8,9,10]\n",
        "\n",
        "sum = 0\n",
        "for number in numbers:\n",
        "  sum+= number\n",
        "\n",
        "print(sum)"
      ],
      "metadata": {
        "id": "K3IeYi_bqydU"
      },
      "execution_count": null,
      "outputs": []
    },
    {
      "cell_type": "markdown",
      "source": [
        "While loops are also handy"
      ],
      "metadata": {
        "id": "iniXHC6X1js8"
      }
    },
    {
      "cell_type": "code",
      "source": [],
      "metadata": {
        "id": "bJYtGqN01bu9"
      },
      "execution_count": null,
      "outputs": []
    },
    {
      "cell_type": "markdown",
      "source": [
        "# Ranges"
      ],
      "metadata": {
        "id": "dNGV49oZ2AFl"
      }
    },
    {
      "cell_type": "markdown",
      "source": [
        "# Continue"
      ],
      "metadata": {
        "id": "qLf6QAzk2J_m"
      }
    }
  ]
}